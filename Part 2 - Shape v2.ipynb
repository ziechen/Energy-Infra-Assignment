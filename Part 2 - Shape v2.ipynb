{
 "cells": [
  {
   "cell_type": "code",
   "execution_count": 1,
   "metadata": {},
   "outputs": [],
   "source": [
    "import json\n",
    "import numpy as np\n",
    "import pandas as pd\n",
    "import pandapower as pp\n",
    "import geopandas as gpd\n",
    "import matplotlib.pyplot as plt\n",
    "import pandapower.plotting as pplot\n",
    "from shapely.geometry import Point\n",
    "from geopandas import GeoSeries\n",
    "from shapely.geometry import Polygon\n",
    "\n",
    "#Defining grid parametersin degrees\n",
    "width=15/111111\n",
    "length=25/111111\n",
    "rd=10/111111\n",
    "grid_width=55/111111\n",
    "grid_length=60/111111\n",
    "\n",
    "#Defining reference point on earth\n",
    "lat=-6.577178\n",
    "long=-77.855809\n",
    "\n"
   ]
  },
  {
   "cell_type": "code",
   "execution_count": 2,
   "metadata": {},
   "outputs": [],
   "source": [
    "#Defining 68 points for load buses\n",
    "i=0 \n",
    "j=0\n",
    "load_bus=[]\n",
    "\n",
    "while j < 5 : \n",
    "    for i in range (0,6) :\n",
    "        bus1 = { 'Name' : 'Load bus' + str(i*2+j*12), 'geometry' : Point((long+rd+width+i*grid_width), (lat+rd+length+j*grid_length)) }  \n",
    "        load_bus.append(bus1)\n",
    "        bus2 = { 'Name' : 'Load bus' + str(i*2+1+j*12), 'geometry' : Point((long+rd+width*2+i*grid_width), (lat+rd+length+j*grid_length)) }  \n",
    "        load_bus.append(bus2)\n",
    "        i+=1\n",
    "    j+=1\n",
    "\n",
    "for k in range (0,3) :\n",
    "    bus1 = { 'Name' : 'Load bus' + str(k*2+5*12), 'geometry' : Point((long+rd+width+k*grid_width), (lat+rd+length+5*grid_length)) }  \n",
    "    load_bus.append(bus1)\n",
    "    bus2 = { 'Name' : 'Load bus' + str(k*2+1+5*12), 'geometry' : Point((long+rd+width*2+k*grid_width), (lat+rd+length+5*grid_length)) }  \n",
    "    load_bus.append(bus2)\n",
    "    i+=1\n",
    "\n",
    "#define bus for 2 house + chapel\n",
    "    bus3 = { 'Name' : 'Load bus' + str(66), 'geometry' : Point((long+rd+width+3*grid_width), (lat+rd+length+5*grid_length)) }  \n",
    "    load_bus.append(bus3)\n",
    "    \n",
    "#define bus for school\n",
    "    bus4 = { 'Name' : 'Load bus' + str(67), 'geometry' : Point((long+rd+width*3+3*grid_width), (lat+rd+length+5*grid_length)) }  \n",
    "    load_bus.append(bus4)    \n",
    "\n",
    "placeholder1=pd.DataFrame(data=load_bus)\n",
    "load_bus_loc = gpd.GeoDataFrame(placeholder1, crs=\"EPSG:4326\")\n",
    "\n",
    "#load_bus_loc.plot()\n",
    "\n"
   ]
  },
  {
   "cell_type": "code",
   "execution_count": 3,
   "metadata": {},
   "outputs": [
    {
     "data": {
      "text/plain": [
       "<AxesSubplot:>"
      ]
     },
     "execution_count": 3,
     "metadata": {},
     "output_type": "execute_result"
    },
    {
     "data": {
      "image/png": "[encoded data removed]",
      "text/plain": [
       "<Figure size 432x288 with 1 Axes>"
      ]
     },
     "metadata": {
      "needs_background": "light"
     },
     "output_type": "display_data"
    }
   ],
   "source": [
    "#Defining 2 points for transformer buses \n",
    "j=0\n",
    "trans_bus=[]\n",
    "\n",
    "#while j < 6 : \n",
    "#    bus1 = { 'Name' : 'Trans bus' + str(j*2), 'geometry' : Point((long), (lat+rd+length+j*grid_length)) }  \n",
    "#    trans_bus.append(bus1)\n",
    "#    bus2 = { 'Name' : 'Trans bus' + str(1+j*2), 'geometry' : Point((long+rd+6*grid_width), (lat+rd+length+j*grid_length)) }  \n",
    "#    trans_bus.append(bus2)\n",
    "#    j+=1\n",
    "\n",
    "bus1 = { 'Name' : 'Trans bus 0', 'geometry' : Point((long), (lat+3*grid_length+rd/2)) }  \n",
    "trans_bus.append(bus1)\n",
    "bus2 = { 'Name' : 'Trans bus 1', 'geometry' : Point((long+rd+6*grid_width), (lat+3*grid_length+rd/2)) }  \n",
    "trans_bus.append(bus2)\n",
    "\n",
    "placeholder2=pd.DataFrame(data=trans_bus)\n",
    "trans_bus_loc = gpd.GeoDataFrame(placeholder2, crs=\"EPSG:4326\")\n",
    "\n",
    "trans_bus_loc.plot()\n"
   ]
  },
  {
   "cell_type": "code",
   "execution_count": 4,
   "metadata": {},
   "outputs": [
    {
     "data": {
      "image/png": "[encoded data removed]",
      "text/plain": [
       "<Figure size 432x288 with 1 Axes>"
      ]
     },
     "metadata": {
      "needs_background": "light"
     },
     "output_type": "display_data"
    }
   ],
   "source": [
    "#Defining 201 polygons for houses & school\n",
    "ii=0\n",
    "i=0 \n",
    "j=0\n",
    "polygon=[]\n",
    "\n",
    "while j < 5 : \n",
    "    for i in range (0,6) :\n",
    "        for ii in range (0,3) :\n",
    "            poly1 = { 'Name' : 'House' + str(ii*2+i*6+j*36), 'geometry' : Polygon([(long+rd+ii*width+i*grid_width, lat+rd+j*grid_length), (long+rd+width+ii*width+i*grid_width, lat+rd+j*grid_length), (long+rd+width+ii*width+i*grid_width, lat+rd+length+j*grid_length), (long+rd+ii*width+i*grid_width, lat+rd+length+j*grid_length)]) }  \n",
    "            polygon.append(poly1)\n",
    "            poly2 = { 'Name' : 'House' + str(ii*2+1+i*6+j*36), 'geometry' : Polygon([(long+rd+ii*width+i*grid_width, lat+rd+length+j*grid_length), (long+rd+width+ii*width+i*grid_width, lat+rd+length+j*grid_length), (long+rd+width+ii*width+i*grid_width, lat+rd+length+length+j*grid_length), (long+rd+ii*width+i*grid_width, lat+rd+length+length+j*grid_length)]) }  \n",
    "            polygon.append(poly2)\n",
    "            ii+=1        \n",
    "        i+=1\n",
    "    j+=1\n",
    "\n",
    "#defining top row\n",
    "ii=0\n",
    "i=0 \n",
    "    \n",
    "for i in range (0,3) :\n",
    "    for ii in range (0,3) :\n",
    "        poly1 = { 'Name' : 'House' + str(ii*2+i*6+5*36), 'geometry' : Polygon([(long+rd+ii*width+i*grid_width, lat+rd+5*grid_length), (long+rd+width+ii*width+i*grid_width, lat+rd+5*grid_length), (long+rd+width+ii*width+i*grid_width, lat+rd+length+5*grid_length), (long+rd+ii*width+i*grid_width, lat+rd+length+5*grid_length)]) }  \n",
    "        polygon.append(poly1)\n",
    "        poly2 = { 'Name' : 'House' + str(ii*2+1+i*6+5*36), 'geometry' : Polygon([(long+rd+ii*width+i*grid_width, lat+rd+length+5*grid_length), (long+rd+width+ii*width+i*grid_width, lat+rd+length+5*grid_length), (long+rd+width+ii*width+i*grid_width, lat+rd+length+length+5*grid_length), (long+rd+ii*width+i*grid_width, lat+rd+length+length+5*grid_length)]) }  \n",
    "        polygon.append(poly2)\n",
    "        ii+=1        \n",
    "    i+=1\n",
    "\n",
    "for i in range (3,4) :\n",
    "    for ii in range (0,1) :\n",
    "        poly1 = { 'Name' : 'House' + str(ii*2+i*6+5*36), 'geometry' : Polygon([(long+rd+ii*width+i*grid_width, lat+rd+5*grid_length), (long+rd+width+ii*width+i*grid_width, lat+rd+5*grid_length), (long+rd+width+ii*width+i*grid_width, lat+rd+length+5*grid_length), (long+rd+ii*width+i*grid_width, lat+rd+length+5*grid_length)]) }  \n",
    "        polygon.append(poly1)\n",
    "        poly2 = { 'Name' : 'House' + str(ii*2+1+i*6+5*36), 'geometry' : Polygon([(long+rd+ii*width+i*grid_width, lat+rd+length+5*grid_length), (long+rd+width+ii*width+i*grid_width, lat+rd+length+5*grid_length), (long+rd+width+ii*width+i*grid_width, lat+rd+length+length+5*grid_length), (long+rd+ii*width+i*grid_width, lat+rd+length+length+5*grid_length)]) }  \n",
    "        polygon.append(poly2)\n",
    "        ii+=1        \n",
    "    i+=1\n",
    "\n",
    "#defining chapel manually\n",
    "chapel = { 'Name' : 'Chapel', 'geometry' : Polygon([(long+rd+width+3*grid_width, lat+rd+5*grid_length), \n",
    "                                                    (long+rd+width*2+3*grid_width, lat+rd+5*grid_length), \n",
    "                                                    (long+rd+width*2+3*grid_width, lat+rd+2*length+5*grid_length), \n",
    "                                                    (long+rd+width+3*grid_width, lat+rd+2*length+5*grid_length)]) }  \n",
    "polygon.append(chapel)\n",
    "    \n",
    "    \n",
    "#defining school manually\n",
    "school = { 'Name' : 'School', 'geometry' : Polygon([(long+rd+width*2+3*grid_width, lat+rd+5*grid_length), \n",
    "                                                    (long+3*grid_width+3*grid_width, lat+rd+5*grid_length), \n",
    "                                                    (long+3*grid_width+3*grid_width, lat+rd+2*length+5*grid_length), \n",
    "                                                    (long+rd+width*2+3*grid_width, lat+rd+2*length+5*grid_length)]) }  \n",
    "polygon.append(school)\n",
    "    \n",
    "placeholder3=pd.DataFrame(data=polygon)\n",
    "polygon_loc = gpd.GeoDataFrame(placeholder3, crs=\"EPSG:4326\")\n",
    "\n",
    "\n",
    "total=load_bus_loc\n",
    "total=total.append(trans_bus_loc)\n",
    "total=total.append(polygon_loc)\n",
    "\n",
    "total.plot(facecolor=\"none\", edgecolor='black', lw=0.7)\n",
    "\n",
    "\n",
    "load_bus_loc.to_file(\"load_bus_loc.shp\")\n",
    "trans_bus_loc.to_file(\"trans_bus_loc.shp\")\n",
    "polygon_loc.to_file(\"polygon_loc.shp\")"
   ]
  },
  {
   "cell_type": "code",
   "execution_count": null,
   "metadata": {},
   "outputs": [],
   "source": []
  },
  {
   "cell_type": "code",
   "execution_count": null,
   "metadata": {},
   "outputs": [],
   "source": []
  }
 ],
 "metadata": {
  "kernelspec": {
   "display_name": "geo_env",
   "language": "python",
   "name": "geo_env"
  },
  "language_info": {
   "codemirror_mode": {
    "name": "ipython",
    "version": 3
   },
   "file_extension": ".py",
   "mimetype": "text/x-python",
   "name": "python",
   "nbconvert_exporter": "python",
   "pygments_lexer": "ipython3",
   "version": "3.8.6"
  }
 },
 "nbformat": 4,
 "nbformat_minor": 4
}
